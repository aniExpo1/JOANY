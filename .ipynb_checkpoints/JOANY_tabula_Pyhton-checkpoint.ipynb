{
 "cells": [
  {
   "cell_type": "code",
   "execution_count": 17,
   "metadata": {
    "collapsed": true
   },
   "outputs": [],
   "source": [
    "import pandas as pd\n",
    "import numpy as np\n"
   ]
  },
  {
   "cell_type": "code",
   "execution_count": 22,
   "metadata": {
    "collapsed": true
   },
   "outputs": [],
   "source": [
    "joany_df = pd.read_csv(\"./data/tabula-Joany - Data Engineer Test - aeta_sample_p1-Copy1.csv\",\n",
    "                      sep=\",\")"
   ]
  },
  {
   "cell_type": "code",
   "execution_count": 23,
   "metadata": {},
   "outputs": [
    {
     "data": {
      "text/plain": [
       "(17, 11)"
      ]
     },
     "execution_count": 23,
     "metadata": {},
     "output_type": "execute_result"
    }
   ],
   "source": [
    "joany_df.shape"
   ]
  },
  {
   "cell_type": "code",
   "execution_count": 24,
   "metadata": {},
   "outputs": [
    {
     "name": "stdout",
     "output_type": "stream",
     "text": [
      "<class 'pandas.core.frame.DataFrame'>\n",
      "RangeIndex: 17 entries, 0 to 16\n",
      "Data columns (total 11 columns):\n",
      "Rating Area:CARA01 *    17 non-null object\n",
      "Unnamed: 1              16 non-null object\n",
      "Unnamed: 2              0 non-null float64\n",
      "Unnamed: 3              0 non-null float64\n",
      "Unnamed: 4              16 non-null object\n",
      "Unnamed: 5              16 non-null object\n",
      "Unnamed: 6              0 non-null float64\n",
      "Unnamed: 7              0 non-null float64\n",
      "Unnamed: 8              16 non-null object\n",
      "Unnamed: 9              16 non-null object\n",
      "Unnamed: 10             0 non-null float64\n",
      "dtypes: float64(5), object(6)\n",
      "memory usage: 1.5+ KB\n"
     ]
    }
   ],
   "source": [
    "joany_df.info()"
   ]
  },
  {
   "cell_type": "code",
   "execution_count": 25,
   "metadata": {},
   "outputs": [
    {
     "data": {
      "text/html": [
       "<div>\n",
       "<table border=\"1\" class=\"dataframe\">\n",
       "  <thead>\n",
       "    <tr style=\"text-align: right;\">\n",
       "      <th></th>\n",
       "      <th>Rating Area:CARA01 *</th>\n",
       "      <th>Unnamed: 1</th>\n",
       "      <th>Unnamed: 2</th>\n",
       "      <th>Unnamed: 3</th>\n",
       "      <th>Unnamed: 4</th>\n",
       "      <th>Unnamed: 5</th>\n",
       "      <th>Unnamed: 6</th>\n",
       "      <th>Unnamed: 7</th>\n",
       "      <th>Unnamed: 8</th>\n",
       "      <th>Unnamed: 9</th>\n",
       "      <th>Unnamed: 10</th>\n",
       "    </tr>\n",
       "  </thead>\n",
       "  <tbody>\n",
       "    <tr>\n",
       "      <th>0</th>\n",
       "      <td>Plan ID:14033847Plan Name:CA Silver Indemnity ...</td>\n",
       "      <td>NaN</td>\n",
       "      <td>NaN</td>\n",
       "      <td>NaN</td>\n",
       "      <td>NaN</td>\n",
       "      <td>NaN</td>\n",
       "      <td>NaN</td>\n",
       "      <td>NaN</td>\n",
       "      <td>NaN</td>\n",
       "      <td>NaN</td>\n",
       "      <td>NaN</td>\n",
       "    </tr>\n",
       "    <tr>\n",
       "      <th>1</th>\n",
       "      <td>Age</td>\n",
       "      <td>Rate</td>\n",
       "      <td>NaN</td>\n",
       "      <td>NaN</td>\n",
       "      <td>Age</td>\n",
       "      <td>Rate</td>\n",
       "      <td>NaN</td>\n",
       "      <td>NaN</td>\n",
       "      <td>Age</td>\n",
       "      <td>Rate</td>\n",
       "      <td>NaN</td>\n",
       "    </tr>\n",
       "    <tr>\n",
       "      <th>2</th>\n",
       "      <td>0-20</td>\n",
       "      <td>421.26</td>\n",
       "      <td>NaN</td>\n",
       "      <td>NaN</td>\n",
       "      <td>35</td>\n",
       "      <td>810.67</td>\n",
       "      <td>NaN</td>\n",
       "      <td>NaN</td>\n",
       "      <td>50</td>\n",
       "      <td>1184.82</td>\n",
       "      <td>NaN</td>\n",
       "    </tr>\n",
       "    <tr>\n",
       "      <th>3</th>\n",
       "      <td>21</td>\n",
       "      <td>663.39</td>\n",
       "      <td>NaN</td>\n",
       "      <td>NaN</td>\n",
       "      <td>36</td>\n",
       "      <td>815.98</td>\n",
       "      <td>NaN</td>\n",
       "      <td>NaN</td>\n",
       "      <td>51</td>\n",
       "      <td>1237.23</td>\n",
       "      <td>NaN</td>\n",
       "    </tr>\n",
       "    <tr>\n",
       "      <th>4</th>\n",
       "      <td>22</td>\n",
       "      <td>663.39</td>\n",
       "      <td>NaN</td>\n",
       "      <td>NaN</td>\n",
       "      <td>37</td>\n",
       "      <td>821.28</td>\n",
       "      <td>NaN</td>\n",
       "      <td>NaN</td>\n",
       "      <td>52</td>\n",
       "      <td>1294.95</td>\n",
       "      <td>NaN</td>\n",
       "    </tr>\n",
       "    <tr>\n",
       "      <th>5</th>\n",
       "      <td>23</td>\n",
       "      <td>663.39</td>\n",
       "      <td>NaN</td>\n",
       "      <td>NaN</td>\n",
       "      <td>38</td>\n",
       "      <td>826.59</td>\n",
       "      <td>NaN</td>\n",
       "      <td>NaN</td>\n",
       "      <td>53</td>\n",
       "      <td>1353.33</td>\n",
       "      <td>NaN</td>\n",
       "    </tr>\n",
       "    <tr>\n",
       "      <th>6</th>\n",
       "      <td>24</td>\n",
       "      <td>663.39</td>\n",
       "      <td>NaN</td>\n",
       "      <td>NaN</td>\n",
       "      <td>39</td>\n",
       "      <td>837.20</td>\n",
       "      <td>NaN</td>\n",
       "      <td>NaN</td>\n",
       "      <td>54</td>\n",
       "      <td>1416.35</td>\n",
       "      <td>NaN</td>\n",
       "    </tr>\n",
       "    <tr>\n",
       "      <th>7</th>\n",
       "      <td>25</td>\n",
       "      <td>666.05</td>\n",
       "      <td>NaN</td>\n",
       "      <td>NaN</td>\n",
       "      <td>40</td>\n",
       "      <td>847.82</td>\n",
       "      <td>NaN</td>\n",
       "      <td>NaN</td>\n",
       "      <td>55</td>\n",
       "      <td>1479.37</td>\n",
       "      <td>NaN</td>\n",
       "    </tr>\n",
       "    <tr>\n",
       "      <th>8</th>\n",
       "      <td>26</td>\n",
       "      <td>679.32</td>\n",
       "      <td>NaN</td>\n",
       "      <td>NaN</td>\n",
       "      <td>41</td>\n",
       "      <td>863.74</td>\n",
       "      <td>NaN</td>\n",
       "      <td>NaN</td>\n",
       "      <td>56</td>\n",
       "      <td>1547.70</td>\n",
       "      <td>NaN</td>\n",
       "    </tr>\n",
       "    <tr>\n",
       "      <th>9</th>\n",
       "      <td>27</td>\n",
       "      <td>695.24</td>\n",
       "      <td>NaN</td>\n",
       "      <td>NaN</td>\n",
       "      <td>42</td>\n",
       "      <td>879.00</td>\n",
       "      <td>NaN</td>\n",
       "      <td>NaN</td>\n",
       "      <td>57</td>\n",
       "      <td>1616.69</td>\n",
       "      <td>NaN</td>\n",
       "    </tr>\n",
       "    <tr>\n",
       "      <th>10</th>\n",
       "      <td>28</td>\n",
       "      <td>721.11</td>\n",
       "      <td>NaN</td>\n",
       "      <td>NaN</td>\n",
       "      <td>43</td>\n",
       "      <td>900.23</td>\n",
       "      <td>NaN</td>\n",
       "      <td>NaN</td>\n",
       "      <td>58</td>\n",
       "      <td>1690.33</td>\n",
       "      <td>NaN</td>\n",
       "    </tr>\n",
       "    <tr>\n",
       "      <th>11</th>\n",
       "      <td>29</td>\n",
       "      <td>742.34</td>\n",
       "      <td>NaN</td>\n",
       "      <td>NaN</td>\n",
       "      <td>44</td>\n",
       "      <td>926.76</td>\n",
       "      <td>NaN</td>\n",
       "      <td>NaN</td>\n",
       "      <td>59</td>\n",
       "      <td>1726.82</td>\n",
       "      <td>NaN</td>\n",
       "    </tr>\n",
       "    <tr>\n",
       "      <th>12</th>\n",
       "      <td>30</td>\n",
       "      <td>752.95</td>\n",
       "      <td>NaN</td>\n",
       "      <td>NaN</td>\n",
       "      <td>45</td>\n",
       "      <td>957.94</td>\n",
       "      <td>NaN</td>\n",
       "      <td>NaN</td>\n",
       "      <td>60</td>\n",
       "      <td>1800.45</td>\n",
       "      <td>NaN</td>\n",
       "    </tr>\n",
       "    <tr>\n",
       "      <th>13</th>\n",
       "      <td>31</td>\n",
       "      <td>768.87</td>\n",
       "      <td>NaN</td>\n",
       "      <td>NaN</td>\n",
       "      <td>46</td>\n",
       "      <td>995.09</td>\n",
       "      <td>NaN</td>\n",
       "      <td>NaN</td>\n",
       "      <td>61</td>\n",
       "      <td>1864.14</td>\n",
       "      <td>NaN</td>\n",
       "    </tr>\n",
       "    <tr>\n",
       "      <th>14</th>\n",
       "      <td>32</td>\n",
       "      <td>784.80</td>\n",
       "      <td>NaN</td>\n",
       "      <td>NaN</td>\n",
       "      <td>47</td>\n",
       "      <td>1036.89</td>\n",
       "      <td>NaN</td>\n",
       "      <td>NaN</td>\n",
       "      <td>62</td>\n",
       "      <td>1905.93</td>\n",
       "      <td>NaN</td>\n",
       "    </tr>\n",
       "    <tr>\n",
       "      <th>15</th>\n",
       "      <td>33</td>\n",
       "      <td>794.75</td>\n",
       "      <td>NaN</td>\n",
       "      <td>NaN</td>\n",
       "      <td>48</td>\n",
       "      <td>1084.65</td>\n",
       "      <td>NaN</td>\n",
       "      <td>NaN</td>\n",
       "      <td>63</td>\n",
       "      <td>1958.34</td>\n",
       "      <td>NaN</td>\n",
       "    </tr>\n",
       "    <tr>\n",
       "      <th>16</th>\n",
       "      <td>34</td>\n",
       "      <td>805.36</td>\n",
       "      <td>NaN</td>\n",
       "      <td>NaN</td>\n",
       "      <td>49</td>\n",
       "      <td>1131.75</td>\n",
       "      <td>NaN</td>\n",
       "      <td>NaN</td>\n",
       "      <td>64+</td>\n",
       "      <td>1989.52</td>\n",
       "      <td>NaN</td>\n",
       "    </tr>\n",
       "  </tbody>\n",
       "</table>\n",
       "</div>"
      ],
      "text/plain": [
       "                                 Rating Area:CARA01 * Unnamed: 1  Unnamed: 2  \\\n",
       "0   Plan ID:14033847Plan Name:CA Silver Indemnity ...        NaN         NaN   \n",
       "1                                                 Age       Rate         NaN   \n",
       "2                                                0-20     421.26         NaN   \n",
       "3                                                  21     663.39         NaN   \n",
       "4                                                  22     663.39         NaN   \n",
       "5                                                  23     663.39         NaN   \n",
       "6                                                  24     663.39         NaN   \n",
       "7                                                  25     666.05         NaN   \n",
       "8                                                  26     679.32         NaN   \n",
       "9                                                  27     695.24         NaN   \n",
       "10                                                 28     721.11         NaN   \n",
       "11                                                 29     742.34         NaN   \n",
       "12                                                 30     752.95         NaN   \n",
       "13                                                 31     768.87         NaN   \n",
       "14                                                 32     784.80         NaN   \n",
       "15                                                 33     794.75         NaN   \n",
       "16                                                 34     805.36         NaN   \n",
       "\n",
       "    Unnamed: 3 Unnamed: 4 Unnamed: 5  Unnamed: 6  Unnamed: 7 Unnamed: 8  \\\n",
       "0          NaN        NaN        NaN         NaN         NaN        NaN   \n",
       "1          NaN        Age       Rate         NaN         NaN        Age   \n",
       "2          NaN         35     810.67         NaN         NaN         50   \n",
       "3          NaN         36     815.98         NaN         NaN         51   \n",
       "4          NaN         37     821.28         NaN         NaN         52   \n",
       "5          NaN         38     826.59         NaN         NaN         53   \n",
       "6          NaN         39     837.20         NaN         NaN         54   \n",
       "7          NaN         40     847.82         NaN         NaN         55   \n",
       "8          NaN         41     863.74         NaN         NaN         56   \n",
       "9          NaN         42     879.00         NaN         NaN         57   \n",
       "10         NaN         43     900.23         NaN         NaN         58   \n",
       "11         NaN         44     926.76         NaN         NaN         59   \n",
       "12         NaN         45     957.94         NaN         NaN         60   \n",
       "13         NaN         46     995.09         NaN         NaN         61   \n",
       "14         NaN         47    1036.89         NaN         NaN         62   \n",
       "15         NaN         48    1084.65         NaN         NaN         63   \n",
       "16         NaN         49    1131.75         NaN         NaN        64+   \n",
       "\n",
       "   Unnamed: 9  Unnamed: 10  \n",
       "0         NaN          NaN  \n",
       "1        Rate          NaN  \n",
       "2     1184.82          NaN  \n",
       "3     1237.23          NaN  \n",
       "4     1294.95          NaN  \n",
       "5     1353.33          NaN  \n",
       "6     1416.35          NaN  \n",
       "7     1479.37          NaN  \n",
       "8     1547.70          NaN  \n",
       "9     1616.69          NaN  \n",
       "10    1690.33          NaN  \n",
       "11    1726.82          NaN  \n",
       "12    1800.45          NaN  \n",
       "13    1864.14          NaN  \n",
       "14    1905.93          NaN  \n",
       "15    1958.34          NaN  \n",
       "16    1989.52          NaN  "
      ]
     },
     "execution_count": 25,
     "metadata": {},
     "output_type": "execute_result"
    }
   ],
   "source": [
    "joany_df"
   ]
  },
  {
   "cell_type": "code",
   "execution_count": 27,
   "metadata": {},
   "outputs": [
    {
     "data": {
      "text/plain": [
       "Index(['Rating Area:CARA01 *', 'Unnamed: 1', 'Unnamed: 2', 'Unnamed: 3',\n",
       "       'Unnamed: 4', 'Unnamed: 5', 'Unnamed: 6', 'Unnamed: 7', 'Unnamed: 8',\n",
       "       'Unnamed: 9', 'Unnamed: 10'],\n",
       "      dtype='object')"
      ]
     },
     "execution_count": 27,
     "metadata": {},
     "output_type": "execute_result"
    }
   ],
   "source": [
    "joany_df.columns"
   ]
  },
  {
   "cell_type": "code",
   "execution_count": 28,
   "metadata": {
    "collapsed": true
   },
   "outputs": [],
   "source": [
    "to_drop= ['Unnamed: 2','Unnamed: 3','Unnamed: 6','Unnamed: 7','Unnamed: 10']"
   ]
  },
  {
   "cell_type": "code",
   "execution_count": 31,
   "metadata": {},
   "outputs": [],
   "source": [
    "joany_df = joany_df.drop(to_drop, axis=1)"
   ]
  },
  {
   "cell_type": "code",
   "execution_count": 32,
   "metadata": {},
   "outputs": [
    {
     "data": {
      "text/html": [
       "<div>\n",
       "<table border=\"1\" class=\"dataframe\">\n",
       "  <thead>\n",
       "    <tr style=\"text-align: right;\">\n",
       "      <th></th>\n",
       "      <th>Rating Area:CARA01 *</th>\n",
       "      <th>Unnamed: 1</th>\n",
       "      <th>Unnamed: 4</th>\n",
       "      <th>Unnamed: 5</th>\n",
       "      <th>Unnamed: 8</th>\n",
       "      <th>Unnamed: 9</th>\n",
       "    </tr>\n",
       "  </thead>\n",
       "  <tbody>\n",
       "    <tr>\n",
       "      <th>0</th>\n",
       "      <td>Plan ID:14033847Plan Name:CA Silver Indemnity ...</td>\n",
       "      <td>NaN</td>\n",
       "      <td>NaN</td>\n",
       "      <td>NaN</td>\n",
       "      <td>NaN</td>\n",
       "      <td>NaN</td>\n",
       "    </tr>\n",
       "    <tr>\n",
       "      <th>1</th>\n",
       "      <td>Age</td>\n",
       "      <td>Rate</td>\n",
       "      <td>Age</td>\n",
       "      <td>Rate</td>\n",
       "      <td>Age</td>\n",
       "      <td>Rate</td>\n",
       "    </tr>\n",
       "    <tr>\n",
       "      <th>2</th>\n",
       "      <td>0-20</td>\n",
       "      <td>421.26</td>\n",
       "      <td>35</td>\n",
       "      <td>810.67</td>\n",
       "      <td>50</td>\n",
       "      <td>1184.82</td>\n",
       "    </tr>\n",
       "    <tr>\n",
       "      <th>3</th>\n",
       "      <td>21</td>\n",
       "      <td>663.39</td>\n",
       "      <td>36</td>\n",
       "      <td>815.98</td>\n",
       "      <td>51</td>\n",
       "      <td>1237.23</td>\n",
       "    </tr>\n",
       "    <tr>\n",
       "      <th>4</th>\n",
       "      <td>22</td>\n",
       "      <td>663.39</td>\n",
       "      <td>37</td>\n",
       "      <td>821.28</td>\n",
       "      <td>52</td>\n",
       "      <td>1294.95</td>\n",
       "    </tr>\n",
       "    <tr>\n",
       "      <th>5</th>\n",
       "      <td>23</td>\n",
       "      <td>663.39</td>\n",
       "      <td>38</td>\n",
       "      <td>826.59</td>\n",
       "      <td>53</td>\n",
       "      <td>1353.33</td>\n",
       "    </tr>\n",
       "    <tr>\n",
       "      <th>6</th>\n",
       "      <td>24</td>\n",
       "      <td>663.39</td>\n",
       "      <td>39</td>\n",
       "      <td>837.20</td>\n",
       "      <td>54</td>\n",
       "      <td>1416.35</td>\n",
       "    </tr>\n",
       "    <tr>\n",
       "      <th>7</th>\n",
       "      <td>25</td>\n",
       "      <td>666.05</td>\n",
       "      <td>40</td>\n",
       "      <td>847.82</td>\n",
       "      <td>55</td>\n",
       "      <td>1479.37</td>\n",
       "    </tr>\n",
       "    <tr>\n",
       "      <th>8</th>\n",
       "      <td>26</td>\n",
       "      <td>679.32</td>\n",
       "      <td>41</td>\n",
       "      <td>863.74</td>\n",
       "      <td>56</td>\n",
       "      <td>1547.70</td>\n",
       "    </tr>\n",
       "    <tr>\n",
       "      <th>9</th>\n",
       "      <td>27</td>\n",
       "      <td>695.24</td>\n",
       "      <td>42</td>\n",
       "      <td>879.00</td>\n",
       "      <td>57</td>\n",
       "      <td>1616.69</td>\n",
       "    </tr>\n",
       "    <tr>\n",
       "      <th>10</th>\n",
       "      <td>28</td>\n",
       "      <td>721.11</td>\n",
       "      <td>43</td>\n",
       "      <td>900.23</td>\n",
       "      <td>58</td>\n",
       "      <td>1690.33</td>\n",
       "    </tr>\n",
       "    <tr>\n",
       "      <th>11</th>\n",
       "      <td>29</td>\n",
       "      <td>742.34</td>\n",
       "      <td>44</td>\n",
       "      <td>926.76</td>\n",
       "      <td>59</td>\n",
       "      <td>1726.82</td>\n",
       "    </tr>\n",
       "    <tr>\n",
       "      <th>12</th>\n",
       "      <td>30</td>\n",
       "      <td>752.95</td>\n",
       "      <td>45</td>\n",
       "      <td>957.94</td>\n",
       "      <td>60</td>\n",
       "      <td>1800.45</td>\n",
       "    </tr>\n",
       "    <tr>\n",
       "      <th>13</th>\n",
       "      <td>31</td>\n",
       "      <td>768.87</td>\n",
       "      <td>46</td>\n",
       "      <td>995.09</td>\n",
       "      <td>61</td>\n",
       "      <td>1864.14</td>\n",
       "    </tr>\n",
       "    <tr>\n",
       "      <th>14</th>\n",
       "      <td>32</td>\n",
       "      <td>784.80</td>\n",
       "      <td>47</td>\n",
       "      <td>1036.89</td>\n",
       "      <td>62</td>\n",
       "      <td>1905.93</td>\n",
       "    </tr>\n",
       "    <tr>\n",
       "      <th>15</th>\n",
       "      <td>33</td>\n",
       "      <td>794.75</td>\n",
       "      <td>48</td>\n",
       "      <td>1084.65</td>\n",
       "      <td>63</td>\n",
       "      <td>1958.34</td>\n",
       "    </tr>\n",
       "    <tr>\n",
       "      <th>16</th>\n",
       "      <td>34</td>\n",
       "      <td>805.36</td>\n",
       "      <td>49</td>\n",
       "      <td>1131.75</td>\n",
       "      <td>64+</td>\n",
       "      <td>1989.52</td>\n",
       "    </tr>\n",
       "  </tbody>\n",
       "</table>\n",
       "</div>"
      ],
      "text/plain": [
       "                                 Rating Area:CARA01 * Unnamed: 1 Unnamed: 4  \\\n",
       "0   Plan ID:14033847Plan Name:CA Silver Indemnity ...        NaN        NaN   \n",
       "1                                                 Age       Rate        Age   \n",
       "2                                                0-20     421.26         35   \n",
       "3                                                  21     663.39         36   \n",
       "4                                                  22     663.39         37   \n",
       "5                                                  23     663.39         38   \n",
       "6                                                  24     663.39         39   \n",
       "7                                                  25     666.05         40   \n",
       "8                                                  26     679.32         41   \n",
       "9                                                  27     695.24         42   \n",
       "10                                                 28     721.11         43   \n",
       "11                                                 29     742.34         44   \n",
       "12                                                 30     752.95         45   \n",
       "13                                                 31     768.87         46   \n",
       "14                                                 32     784.80         47   \n",
       "15                                                 33     794.75         48   \n",
       "16                                                 34     805.36         49   \n",
       "\n",
       "   Unnamed: 5 Unnamed: 8 Unnamed: 9  \n",
       "0         NaN        NaN        NaN  \n",
       "1        Rate        Age       Rate  \n",
       "2      810.67         50    1184.82  \n",
       "3      815.98         51    1237.23  \n",
       "4      821.28         52    1294.95  \n",
       "5      826.59         53    1353.33  \n",
       "6      837.20         54    1416.35  \n",
       "7      847.82         55    1479.37  \n",
       "8      863.74         56    1547.70  \n",
       "9      879.00         57    1616.69  \n",
       "10     900.23         58    1690.33  \n",
       "11     926.76         59    1726.82  \n",
       "12     957.94         60    1800.45  \n",
       "13     995.09         61    1864.14  \n",
       "14    1036.89         62    1905.93  \n",
       "15    1084.65         63    1958.34  \n",
       "16    1131.75        64+    1989.52  "
      ]
     },
     "execution_count": 32,
     "metadata": {},
     "output_type": "execute_result"
    }
   ],
   "source": [
    "joany_df"
   ]
  },
  {
   "cell_type": "code",
   "execution_count": 33,
   "metadata": {
    "collapsed": true
   },
   "outputs": [],
   "source": [
    "joany_df.columns = joany_df.iloc[1]"
   ]
  },
  {
   "cell_type": "code",
   "execution_count": 64,
   "metadata": {},
   "outputs": [],
   "source": [
    "joany_df2 = joany_df.iloc[2:17,2:4]"
   ]
  },
  {
   "cell_type": "code",
   "execution_count": 67,
   "metadata": {
    "collapsed": true
   },
   "outputs": [],
   "source": [
    "joany_df1= joany_df.iloc[2:17,0:2]"
   ]
  },
  {
   "cell_type": "code",
   "execution_count": 61,
   "metadata": {},
   "outputs": [],
   "source": [
    "joany_df3 =joany_df.iloc[2:17,4:6]"
   ]
  },
  {
   "cell_type": "code",
   "execution_count": 89,
   "metadata": {},
   "outputs": [
    {
     "data": {
      "text/html": [
       "<div>\n",
       "<table border=\"1\" class=\"dataframe\">\n",
       "  <thead>\n",
       "    <tr style=\"text-align: right;\">\n",
       "      <th>1</th>\n",
       "      <th>Age</th>\n",
       "      <th>Rate</th>\n",
       "    </tr>\n",
       "  </thead>\n",
       "  <tbody>\n",
       "    <tr>\n",
       "      <th>2</th>\n",
       "      <td>0-20</td>\n",
       "      <td>421.26</td>\n",
       "    </tr>\n",
       "    <tr>\n",
       "      <th>3</th>\n",
       "      <td>21</td>\n",
       "      <td>663.39</td>\n",
       "    </tr>\n",
       "  </tbody>\n",
       "</table>\n",
       "</div>"
      ],
      "text/plain": [
       "1   Age    Rate\n",
       "2  0-20  421.26\n",
       "3    21  663.39"
      ]
     },
     "execution_count": 89,
     "metadata": {},
     "output_type": "execute_result"
    }
   ],
   "source": [
    "joany_df1.head(2)"
   ]
  },
  {
   "cell_type": "code",
   "execution_count": 90,
   "metadata": {},
   "outputs": [
    {
     "data": {
      "text/html": [
       "<div>\n",
       "<table border=\"1\" class=\"dataframe\">\n",
       "  <thead>\n",
       "    <tr style=\"text-align: right;\">\n",
       "      <th>1</th>\n",
       "      <th>Age</th>\n",
       "      <th>Rate</th>\n",
       "    </tr>\n",
       "  </thead>\n",
       "  <tbody>\n",
       "    <tr>\n",
       "      <th>2</th>\n",
       "      <td>35</td>\n",
       "      <td>810.67</td>\n",
       "    </tr>\n",
       "    <tr>\n",
       "      <th>3</th>\n",
       "      <td>36</td>\n",
       "      <td>815.98</td>\n",
       "    </tr>\n",
       "  </tbody>\n",
       "</table>\n",
       "</div>"
      ],
      "text/plain": [
       "1 Age    Rate\n",
       "2  35  810.67\n",
       "3  36  815.98"
      ]
     },
     "execution_count": 90,
     "metadata": {},
     "output_type": "execute_result"
    }
   ],
   "source": [
    "joany_df2.head(2)"
   ]
  },
  {
   "cell_type": "code",
   "execution_count": 91,
   "metadata": {},
   "outputs": [
    {
     "data": {
      "text/html": [
       "<div>\n",
       "<table border=\"1\" class=\"dataframe\">\n",
       "  <thead>\n",
       "    <tr style=\"text-align: right;\">\n",
       "      <th>1</th>\n",
       "      <th>Age</th>\n",
       "      <th>Rate</th>\n",
       "    </tr>\n",
       "  </thead>\n",
       "  <tbody>\n",
       "    <tr>\n",
       "      <th>2</th>\n",
       "      <td>50</td>\n",
       "      <td>1184.82</td>\n",
       "    </tr>\n",
       "    <tr>\n",
       "      <th>3</th>\n",
       "      <td>51</td>\n",
       "      <td>1237.23</td>\n",
       "    </tr>\n",
       "  </tbody>\n",
       "</table>\n",
       "</div>"
      ],
      "text/plain": [
       "1 Age     Rate\n",
       "2  50  1184.82\n",
       "3  51  1237.23"
      ]
     },
     "execution_count": 91,
     "metadata": {},
     "output_type": "execute_result"
    }
   ],
   "source": [
    "joany_df3.head(2)"
   ]
  },
  {
   "cell_type": "code",
   "execution_count": 79,
   "metadata": {
    "collapsed": true
   },
   "outputs": [],
   "source": [
    "all_df = pd.concat([joany_df1,joany_df2,joany_df3],axis=0,ignore_index=True)"
   ]
  },
  {
   "cell_type": "code",
   "execution_count": 80,
   "metadata": {},
   "outputs": [],
   "source": [
    "all_df[\"plan_ID\"] = int(14033847)"
   ]
  },
  {
   "cell_type": "code",
   "execution_count": 81,
   "metadata": {
    "collapsed": true
   },
   "outputs": [],
   "source": [
    "all_df[\"plan_name\"] = \"CA Silver Indemnity 1500 80\""
   ]
  },
  {
   "cell_type": "code",
   "execution_count": 82,
   "metadata": {
    "collapsed": true
   },
   "outputs": [],
   "source": [
    "all_df[\"region_number\"] = \"CARA01\""
   ]
  },
  {
   "cell_type": "code",
   "execution_count": 83,
   "metadata": {},
   "outputs": [],
   "source": [
    "all_df[\"issuer_name\"] = \"Aetna\""
   ]
  },
  {
   "cell_type": "code",
   "execution_count": 85,
   "metadata": {},
   "outputs": [],
   "source": [
    "all_df.rename(columns={'Age': 'age', 'Rate': 'price'}, inplace=True)"
   ]
  },
  {
   "cell_type": "code",
   "execution_count": 86,
   "metadata": {},
   "outputs": [
    {
     "data": {
      "text/html": [
       "<div>\n",
       "<table border=\"1\" class=\"dataframe\">\n",
       "  <thead>\n",
       "    <tr style=\"text-align: right;\">\n",
       "      <th>1</th>\n",
       "      <th>age</th>\n",
       "      <th>price</th>\n",
       "      <th>plan_ID</th>\n",
       "      <th>plan_name</th>\n",
       "      <th>region_number</th>\n",
       "      <th>issuer_name</th>\n",
       "    </tr>\n",
       "  </thead>\n",
       "  <tbody>\n",
       "    <tr>\n",
       "      <th>0</th>\n",
       "      <td>0-20</td>\n",
       "      <td>421.26</td>\n",
       "      <td>14033847</td>\n",
       "      <td>CA Silver Indemnity 1500 80</td>\n",
       "      <td>CARA01</td>\n",
       "      <td>Aetna</td>\n",
       "    </tr>\n",
       "    <tr>\n",
       "      <th>1</th>\n",
       "      <td>21</td>\n",
       "      <td>663.39</td>\n",
       "      <td>14033847</td>\n",
       "      <td>CA Silver Indemnity 1500 80</td>\n",
       "      <td>CARA01</td>\n",
       "      <td>Aetna</td>\n",
       "    </tr>\n",
       "    <tr>\n",
       "      <th>2</th>\n",
       "      <td>22</td>\n",
       "      <td>663.39</td>\n",
       "      <td>14033847</td>\n",
       "      <td>CA Silver Indemnity 1500 80</td>\n",
       "      <td>CARA01</td>\n",
       "      <td>Aetna</td>\n",
       "    </tr>\n",
       "    <tr>\n",
       "      <th>3</th>\n",
       "      <td>23</td>\n",
       "      <td>663.39</td>\n",
       "      <td>14033847</td>\n",
       "      <td>CA Silver Indemnity 1500 80</td>\n",
       "      <td>CARA01</td>\n",
       "      <td>Aetna</td>\n",
       "    </tr>\n",
       "    <tr>\n",
       "      <th>4</th>\n",
       "      <td>24</td>\n",
       "      <td>663.39</td>\n",
       "      <td>14033847</td>\n",
       "      <td>CA Silver Indemnity 1500 80</td>\n",
       "      <td>CARA01</td>\n",
       "      <td>Aetna</td>\n",
       "    </tr>\n",
       "  </tbody>\n",
       "</table>\n",
       "</div>"
      ],
      "text/plain": [
       "1   age   price   plan_ID                    plan_name region_number  \\\n",
       "0  0-20  421.26  14033847  CA Silver Indemnity 1500 80        CARA01   \n",
       "1    21  663.39  14033847  CA Silver Indemnity 1500 80        CARA01   \n",
       "2    22  663.39  14033847  CA Silver Indemnity 1500 80        CARA01   \n",
       "3    23  663.39  14033847  CA Silver Indemnity 1500 80        CARA01   \n",
       "4    24  663.39  14033847  CA Silver Indemnity 1500 80        CARA01   \n",
       "\n",
       "1 issuer_name  \n",
       "0       Aetna  \n",
       "1       Aetna  \n",
       "2       Aetna  \n",
       "3       Aetna  \n",
       "4       Aetna  "
      ]
     },
     "execution_count": 86,
     "metadata": {},
     "output_type": "execute_result"
    }
   ],
   "source": [
    "all_df.head()"
   ]
  },
  {
   "cell_type": "code",
   "execution_count": 87,
   "metadata": {
    "collapsed": true
   },
   "outputs": [],
   "source": [
    "all_df.to_csv(\"joany_python.csv\")"
   ]
  },
  {
   "cell_type": "code",
   "execution_count": null,
   "metadata": {
    "collapsed": true
   },
   "outputs": [],
   "source": []
  }
 ],
 "metadata": {
  "kernelspec": {
   "display_name": "Python 3",
   "language": "python",
   "name": "python3"
  },
  "language_info": {
   "codemirror_mode": {
    "name": "ipython",
    "version": 3
   },
   "file_extension": ".py",
   "mimetype": "text/x-python",
   "name": "python",
   "nbconvert_exporter": "python",
   "pygments_lexer": "ipython3",
   "version": "3.5.2"
  }
 },
 "nbformat": 4,
 "nbformat_minor": 2
}
